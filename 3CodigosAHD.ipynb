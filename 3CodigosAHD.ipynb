{
  "nbformat": 4,
  "nbformat_minor": 0,
  "metadata": {
    "colab": {
      "provenance": [],
      "authorship_tag": "ABX9TyNzV3CvINxz1D4edHbynVHt",
      "include_colab_link": true
    },
    "kernelspec": {
      "name": "python3",
      "display_name": "Python 3"
    },
    "language_info": {
      "name": "python"
    }
  },
  "cells": [
    {
      "cell_type": "markdown",
      "metadata": {
        "id": "view-in-github",
        "colab_type": "text"
      },
      "source": [
        "<a href=\"https://colab.research.google.com/github/alu230756-sr/Repaso-de-Python/blob/main/3CodigosAHD.ipynb\" target=\"_parent\"><img src=\"https://colab.research.google.com/assets/colab-badge.svg\" alt=\"Open In Colab\"/></a>"
      ]
    },
    {
      "cell_type": "markdown",
      "source": [
        "1.- Realizar un programa en python que te permita capturar 3 números enteros e imprima cual de los 3 es el mayor"
      ],
      "metadata": {
        "id": "RS26_EVG_VoP"
      }
    },
    {
      "cell_type": "code",
      "execution_count": 8,
      "metadata": {
        "colab": {
          "base_uri": "https://localhost:8080/"
        },
        "id": "XmE1BYWh--WA",
        "outputId": "b9b1a7ce-e8e6-42c4-e1fb-4d2af1b59087"
      },
      "outputs": [
        {
          "output_type": "stream",
          "name": "stdout",
          "text": [
            "Ingresa el primer num: 1\n",
            "Ingresa el segundo num: 10\n",
            "Ingresa el tercer num: 5\n",
            "El numero mayor es:  10\n"
          ]
        }
      ],
      "source": [
        "num1 = int(input(\"Ingresa el primer num: \"))\n",
        "num2 = int(input(\"Ingresa el segundo num: \"))\n",
        "num3 = int(input(\"Ingresa el tercer num: \"))\n",
        "\n",
        "MayorNum = max(num1, num2, num3)\n",
        "\n",
        "print(\"El numero mayor es: \", MayorNum)\n",
        "\n"
      ]
    },
    {
      "cell_type": "markdown",
      "source": [
        "2.- Realizar un programa en python mediante el cual calcules el total de caracteres que tiene un nombre capturado desde el teclado."
      ],
      "metadata": {
        "id": "rCcI7AlR_Ylt"
      }
    },
    {
      "cell_type": "code",
      "source": [
        "CapturarNombre = input(\"Captura un nombre:\" )\n",
        "print(\"El nombre tiene: \", len(CapturarNombre), \"caracteres\")"
      ],
      "metadata": {
        "colab": {
          "base_uri": "https://localhost:8080/"
        },
        "id": "njozrFcU_a41",
        "outputId": "21aed5d4-3cd4-4e25-bf3e-81412b55767a"
      },
      "execution_count": 7,
      "outputs": [
        {
          "output_type": "stream",
          "name": "stdout",
          "text": [
            "Captura un nombre:axel\n",
            "El nombre tiene:  4 caracteres\n"
          ]
        }
      ]
    },
    {
      "cell_type": "markdown",
      "source": [
        "3.- Realizar un programa en python que permita imprimir los 7 días de la semana."
      ],
      "metadata": {
        "id": "KC1BUfa0_bT9"
      }
    },
    {
      "cell_type": "code",
      "source": [
        "print(\"Lunes\")\n",
        "print(\"Martes\")\n",
        "print(\"Miercoles\")\n",
        "print(\"Jueves\")\n",
        "print(\"Viernes\")\n",
        "print(\"Sabado\")\n",
        "print(\"Domingo\")\n"
      ],
      "metadata": {
        "colab": {
          "base_uri": "https://localhost:8080/"
        },
        "id": "FHbYTkzi_dEF",
        "outputId": "8eb8fa8d-e500-45d3-a62a-2f461f43a2a2"
      },
      "execution_count": 24,
      "outputs": [
        {
          "output_type": "stream",
          "name": "stdout",
          "text": [
            "Lunes\n",
            "Martes\n",
            "Miercoles\n",
            "Jueves\n",
            "Viernes\n",
            "Sabado\n",
            "Domingo\n"
          ]
        }
      ]
    }
  ]
}