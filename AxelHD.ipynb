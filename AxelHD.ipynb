{
  "nbformat": 4,
  "nbformat_minor": 0,
  "metadata": {
    "colab": {
      "provenance": [],
      "authorship_tag": "ABX9TyMd7iUSEKOAwa1tPmyBuh/K",
      "include_colab_link": true
    },
    "kernelspec": {
      "name": "python3",
      "display_name": "Python 3"
    },
    "language_info": {
      "name": "python"
    }
  },
  "cells": [
    {
      "cell_type": "markdown",
      "metadata": {
        "id": "view-in-github",
        "colab_type": "text"
      },
      "source": [
        "<a href=\"https://colab.research.google.com/github/alu230756-sr/Repaso-de-Python/blob/main/AxelHD.ipynb\" target=\"_parent\"><img src=\"https://colab.research.google.com/assets/colab-badge.svg\" alt=\"Open In Colab\"/></a>"
      ]
    },
    {
      "cell_type": "markdown",
      "source": [
        "Realizar un programa que permita capturar tu nombre y lo imprima seguido de una bienvenida"
      ],
      "metadata": {
        "id": "IZrwNOtx_OFv"
      }
    },
    {
      "cell_type": "code",
      "source": [
        "capturarNombre = input(\"Escribe tu nombre: \")\n",
        "print(\"Bienvenido!!!\")\n",
        "print(\"Tu nombre es:\", capturarNombre)"
      ],
      "metadata": {
        "colab": {
          "base_uri": "https://localhost:8080/"
        },
        "id": "QL_nw3zB_fEV",
        "outputId": "c2c665a9-75ca-4afd-a6e4-c833bcefb766"
      },
      "execution_count": 5,
      "outputs": [
        {
          "output_type": "stream",
          "name": "stdout",
          "text": [
            "Escribe tu nombre: axel hipolito\n",
            "Bienvenido!!!\n",
            "Tu nombre es: axel hipolito\n"
          ]
        }
      ]
    },
    {
      "cell_type": "markdown",
      "source": [
        "Realizar un programa que permita capturar 2 numeros enteros e imprima la suma, la resta, la multiplicacion y la division."
      ],
      "metadata": {
        "id": "g5VrtiqQCrLn"
      }
    },
    {
      "cell_type": "code",
      "source": [
        "num1 = int(input(\"Captura un numero: \"))\n",
        "num2 = int(input(\"Captura un numero: \"))\n",
        "s=(num1+num2)\n",
        "r=(num1-num2)\n",
        "mult=(num1*num2)\n",
        "div=(num1/num2)\n",
        "print(\"La suma es:\", s)\n",
        "print(\"La resta es:\", r)\n",
        "print(\"La multiplicacion es:\", mult)\n",
        "print(\"La division es:\", div)"
      ],
      "metadata": {
        "colab": {
          "base_uri": "https://localhost:8080/"
        },
        "id": "ywQz4uGRCpYf",
        "outputId": "a19ffb83-cb0f-4bb3-bb63-ebdfa8063bd9"
      },
      "execution_count": 9,
      "outputs": [
        {
          "output_type": "stream",
          "name": "stdout",
          "text": [
            "Captura un numero5\n",
            "Captura un numero5\n",
            "La suma es: 10\n",
            "La resta es: 0\n",
            "La multiplicacion es: 25\n",
            "La division es: 1.0\n"
          ]
        }
      ]
    }
  ]
}